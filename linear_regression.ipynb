{
 "cells": [
  {
   "attachments": {},
   "cell_type": "markdown",
   "metadata": {},
   "source": [
    "## Linear Regression"
   ]
  },
  {
   "cell_type": "code",
   "execution_count": 29,
   "metadata": {},
   "outputs": [
    {
     "name": "stdout",
     "output_type": "stream",
     "text": [
      "[[2104    5    1   45]\n",
      " [1416    3    2   40]\n",
      " [ 852    2    1   35]] \n",
      " [460 232 178] \n",
      " m = 3, n = 4\n"
     ]
    }
   ],
   "source": [
    "import numpy as np\n",
    "import pandas as pd\n",
    "import matplotlib.pyplot as plt\n",
    "\n",
    "x_train = np.array([[2104, 5, 1, 45], [1416, 3, 2, 40], [852, 2, 1, 35]])\n",
    "y_train = np.array([460, 232, 178])\n",
    "\n",
    "m, n = np.shape(x_train)\n",
    "\n",
    "print(x_train, '\\n', y_train, '\\n', f\"m = {m}, n = {n}\")"
   ]
  },
  {
   "cell_type": "code",
   "execution_count": 30,
   "metadata": {},
   "outputs": [],
   "source": [
    "def zscore_normalize_feature_scaling(x):\n",
    "    x_mean = np.mean(x, axis=0)\n",
    "    x_std = np.std(x, axis=0)\n",
    "\n",
    "    x_norm = ( x - x_mean ) / x_std\n",
    "    return x_norm\n",
    "\n",
    "# x_norm = zscore_normalize_feature_scaling(x_train)\n",
    "\n",
    "# Plotting\n",
    "# fig, ax = plt.subplots(1, 4, figsize=(12, 3))\n",
    "# for i in range(len(ax)):\n",
    "#     ax[i].scatter(x_norm[0:3,i], y_train)\n",
    "# ax[0].set_ylabel('Price in 1000s')\n",
    "# plt.show()"
   ]
  },
  {
   "cell_type": "code",
   "execution_count": 31,
   "metadata": {},
   "outputs": [],
   "source": [
    "def prediction_function(x, w, b):\n",
    "    f_wb = (x @ w) + b\n",
    "    return f_wb"
   ]
  },
  {
   "cell_type": "code",
   "execution_count": 32,
   "metadata": {},
   "outputs": [],
   "source": [
    "def cost_function(w, b):\n",
    "    x_norm = zscore_normalize_feature_scaling(x_train)\n",
    "\n",
    "    f_wb = prediction_function(x_norm, w, b)\n",
    "    err = f_wb - y_train\n",
    "    J_wb = (1 / (2*m)) * np.sum( np.square(err) )\n",
    "\n",
    "    return J_wb"
   ]
  },
  {
   "cell_type": "code",
   "execution_count": 33,
   "metadata": {},
   "outputs": [],
   "source": [
    "def compute_gradients(x, y, w, b):\n",
    "\n",
    "    f_wb = prediction_function(x, w, b)\n",
    "    err = f_wb - y\n",
    "\n",
    "    dj_dw = (1/m) * (err @ x)\n",
    "    dj_db = (1/m) * np.sum(err)\n",
    "\n",
    "    return dj_dw, dj_db"
   ]
  },
  {
   "cell_type": "code",
   "execution_count": 34,
   "metadata": {},
   "outputs": [],
   "source": [
    "def gradient_descent(x_train, y_train):\n",
    "    w = np.zeros(n)\n",
    "    b = 0\n",
    "    x_norm = zscore_normalize_feature_scaling(x_train)\n",
    "\n",
    "    iterations = 100000\n",
    "    alpha = 0.01\n",
    "    _lambda = 0.85\n",
    "\n",
    "    for i in range(iterations):\n",
    "        dj_dw, dj_db = compute_gradients(x_norm, y_train, w, b)\n",
    "        w = w - alpha * dj_dw\n",
    "        b = b - alpha * dj_db\n",
    "\n",
    "    return w, b\n"
   ]
  },
  {
   "cell_type": "code",
   "execution_count": 35,
   "metadata": {},
   "outputs": [
    {
     "name": "stdout",
     "output_type": "stream",
     "text": [
      "[ 38.05161505  41.54327451 -30.98894656  36.34177447] \n",
      " 289.9999999999972\n"
     ]
    }
   ],
   "source": [
    "def main():\n",
    "    w, b = gradient_descent(x_train, y_train)\n",
    "    print(w, '\\n', b)\n",
    "\n",
    "main()"
   ]
  }
 ],
 "metadata": {
  "kernelspec": {
   "display_name": "Python 3",
   "language": "python",
   "name": "python3"
  },
  "language_info": {
   "codemirror_mode": {
    "name": "ipython",
    "version": 3
   },
   "file_extension": ".py",
   "mimetype": "text/x-python",
   "name": "python",
   "nbconvert_exporter": "python",
   "pygments_lexer": "ipython3",
   "version": "3.10.0 (tags/v3.10.0:b494f59, Oct  4 2021, 19:00:18) [MSC v.1929 64 bit (AMD64)]"
  },
  "orig_nbformat": 4,
  "vscode": {
   "interpreter": {
    "hash": "be20d9baef4cb16da3bb874a051575f4de8fa71c3db46c0a1dc20ae78601d456"
   }
  }
 },
 "nbformat": 4,
 "nbformat_minor": 2
}
