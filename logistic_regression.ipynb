{
 "cells": [
  {
   "attachments": {},
   "cell_type": "markdown",
   "metadata": {},
   "source": [
    "## Logistic Regression"
   ]
  },
  {
   "cell_type": "code",
   "execution_count": null,
   "metadata": {},
   "outputs": [],
   "source": [
    "import numpy as np\n",
    "import matplotlib.pyplot as plt"
   ]
  },
  {
   "cell_type": "code",
   "execution_count": null,
   "metadata": {},
   "outputs": [],
   "source": [
    "def zscore_normalization(x):\n",
    "    x_mean = np.mean(x, axis=0)\n",
    "    x_std = np.std(x, axis=0)\n",
    "\n",
    "    x_norm = (x - x_mean) / x_std\n",
    "    return x_norm"
   ]
  },
  {
   "cell_type": "code",
   "execution_count": null,
   "metadata": {},
   "outputs": [],
   "source": [
    "def prediction_function(x, w, b, logistic = False):\n",
    "    z = b + (x @ w)\n",
    "    f_wb = 0\n",
    "\n",
    "    if logistic :\n",
    "        f_wb = 1 / (1 + np.exp(-z))\n",
    "    else :\n",
    "        f_wb = z\n",
    "\n",
    "    return f_wb"
   ]
  },
  {
   "cell_type": "code",
   "execution_count": null,
   "metadata": {},
   "outputs": [],
   "source": [
    "def cost_function(x, y, w, b, _lambda):\n",
    "    m, n = np.shape(x)\n",
    "\n",
    "    f_wb = prediction_function(x, w, b, True)\n",
    "\n",
    "    J_wb = (_lambda / (2*m)) * np.sum( np.square(w) )\n",
    "    J_wb -= np.sum(y * np.log(f_wb)) + np.sum( (1-y) * np.log(1 - f_wb) )\n",
    "\n",
    "    return J_wb"
   ]
  },
  {
   "cell_type": "code",
   "execution_count": null,
   "metadata": {},
   "outputs": [],
   "source": [
    "def compute_gradients(x, y, w, b, _lambda):\n",
    "    f_wb = prediction_function(x, w, b, logistic=True)\n",
    "    err = f_wb - y\n",
    "\n",
    "    m, n = np.shape(x)\n",
    "\n",
    "    dj_db = (1/m) * np.sum(err)\n",
    "    dj_dw = (1/m) * (err @ x)\n",
    "\n",
    "    dj_dw = dj_dw + ( _lambda / m ) * w\n",
    "    return dj_dw, dj_db\n"
   ]
  },
  {
   "cell_type": "code",
   "execution_count": null,
   "metadata": {},
   "outputs": [],
   "source": [
    "def gradient_descent(x, y):\n",
    "    x_norm = zscore_normalization(x)\n",
    "    m, n = np.shape(x)\n",
    "\n",
    "    iterations = 10000\n",
    "    alpha = 0.01\n",
    "    _lambda = 0.85\n",
    "\n",
    "    w = np.zeros(n)\n",
    "    b = 0\n",
    "\n",
    "    for i in range(iterations):\n",
    "        dj_dw, dj_db = compute_gradients(x_norm, y, w, b, _lambda)\n",
    "        w = w - alpha * dj_dw\n",
    "        b = b - alpha * dj_db\n",
    "\n",
    "    return w, b"
   ]
  },
  {
   "cell_type": "code",
   "execution_count": null,
   "metadata": {},
   "outputs": [],
   "source": [
    "def main():\n",
    "    x_train = np.array()\n",
    "    y_train = np.array()\n",
    "\n",
    "    w, b = gradient_descent(x_train, y_train)\n",
    "    print(w, '\\n', b)\n",
    "\n",
    "main()"
   ]
  }
 ],
 "metadata": {
  "kernelspec": {
   "display_name": "Python 3",
   "language": "python",
   "name": "python3"
  },
  "language_info": {
   "name": "python",
   "version": "3.10.0 (tags/v3.10.0:b494f59, Oct  4 2021, 19:00:18) [MSC v.1929 64 bit (AMD64)]"
  },
  "orig_nbformat": 4,
  "vscode": {
   "interpreter": {
    "hash": "be20d9baef4cb16da3bb874a051575f4de8fa71c3db46c0a1dc20ae78601d456"
   }
  }
 },
 "nbformat": 4,
 "nbformat_minor": 2
}
